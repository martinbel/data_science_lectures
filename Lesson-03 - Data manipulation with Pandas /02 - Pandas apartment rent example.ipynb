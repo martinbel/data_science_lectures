{
 "cells": [
  {
   "cell_type": "code",
   "execution_count": 1,
   "metadata": {},
   "outputs": [],
   "source": [
    "import pandas as pd\n",
    "import numpy as np\n",
    "import matplotlib.pyplot as plt"
   ]
  },
  {
   "cell_type": "code",
   "execution_count": 2,
   "metadata": {},
   "outputs": [],
   "source": [
    "# We can run scripts interactively from the ipython notebook with %run\n",
    "%run change_column_names.py"
   ]
  },
  {
   "cell_type": "code",
   "execution_count": 3,
   "metadata": {},
   "outputs": [],
   "source": [
    "df = pd.read_csv('deptos_eng.csv')"
   ]
  },
  {
   "cell_type": "code",
   "execution_count": 4,
   "metadata": {},
   "outputs": [
    {
     "data": {
      "text/html": [
       "<div>\n",
       "<style scoped>\n",
       "    .dataframe tbody tr th:only-of-type {\n",
       "        vertical-align: middle;\n",
       "    }\n",
       "\n",
       "    .dataframe tbody tr th {\n",
       "        vertical-align: top;\n",
       "    }\n",
       "\n",
       "    .dataframe thead th {\n",
       "        text-align: right;\n",
       "    }\n",
       "</style>\n",
       "<table border=\"1\" class=\"dataframe\">\n",
       "  <thead>\n",
       "    <tr style=\"text-align: right;\">\n",
       "      <th></th>\n",
       "      <th>rooms</th>\n",
       "      <th>age</th>\n",
       "      <th>bath</th>\n",
       "      <th>neighborhood</th>\n",
       "      <th>aparment_floor</th>\n",
       "      <th>view</th>\n",
       "      <th>bedrooms</th>\n",
       "      <th>expenses</th>\n",
       "      <th>floor</th>\n",
       "      <th>nbr_floors</th>\n",
       "      <th>covered area</th>\n",
       "      <th>total_area</th>\n",
       "      <th>type</th>\n",
       "      <th>address</th>\n",
       "      <th>price</th>\n",
       "    </tr>\n",
       "  </thead>\n",
       "  <tbody>\n",
       "    <tr>\n",
       "      <th>0</th>\n",
       "      <td>1.0</td>\n",
       "      <td>NaN</td>\n",
       "      <td>2.0</td>\n",
       "      <td>Belgrano - Capital Federal</td>\n",
       "      <td>NaN</td>\n",
       "      <td>Frente</td>\n",
       "      <td>NaN</td>\n",
       "      <td>6432.0</td>\n",
       "      <td>NaN</td>\n",
       "      <td>NaN</td>\n",
       "      <td>71.0</td>\n",
       "      <td>85.0</td>\n",
       "      <td>Departamento</td>\n",
       "      <td>Juramento 1900</td>\n",
       "      <td>26000</td>\n",
       "    </tr>\n",
       "    <tr>\n",
       "      <th>1</th>\n",
       "      <td>1.0</td>\n",
       "      <td>0 años</td>\n",
       "      <td>1.0</td>\n",
       "      <td>Belgrano - Capital Federal</td>\n",
       "      <td>NaN</td>\n",
       "      <td>NaN</td>\n",
       "      <td>NaN</td>\n",
       "      <td>4800.0</td>\n",
       "      <td>NaN</td>\n",
       "      <td>1.0</td>\n",
       "      <td>41.0</td>\n",
       "      <td>44.0</td>\n",
       "      <td>NaN</td>\n",
       "      <td>Arcos Al 2600</td>\n",
       "      <td>17500</td>\n",
       "    </tr>\n",
       "    <tr>\n",
       "      <th>2</th>\n",
       "      <td>1.0</td>\n",
       "      <td>5 años</td>\n",
       "      <td>1.0</td>\n",
       "      <td>Puerto Madero - Capital Federal</td>\n",
       "      <td>NaN</td>\n",
       "      <td>Frente</td>\n",
       "      <td>NaN</td>\n",
       "      <td>7000.0</td>\n",
       "      <td>NaN</td>\n",
       "      <td>NaN</td>\n",
       "      <td>42.0</td>\n",
       "      <td>42.0</td>\n",
       "      <td>NaN</td>\n",
       "      <td>Quartier Madero Urbano</td>\n",
       "      <td>20000</td>\n",
       "    </tr>\n",
       "    <tr>\n",
       "      <th>3</th>\n",
       "      <td>1.0</td>\n",
       "      <td>0 años</td>\n",
       "      <td>1.0</td>\n",
       "      <td>Coghlan - Capital Federal</td>\n",
       "      <td>NaN</td>\n",
       "      <td>NaN</td>\n",
       "      <td>NaN</td>\n",
       "      <td>2200.0</td>\n",
       "      <td>NaN</td>\n",
       "      <td>NaN</td>\n",
       "      <td>NaN</td>\n",
       "      <td>NaN</td>\n",
       "      <td>NaN</td>\n",
       "      <td>Juana Azurduy Al 3400</td>\n",
       "      <td>13500</td>\n",
       "    </tr>\n",
       "    <tr>\n",
       "      <th>4</th>\n",
       "      <td>1.0</td>\n",
       "      <td>2 años</td>\n",
       "      <td>1.0</td>\n",
       "      <td>Balvanera - Capital Federal</td>\n",
       "      <td>NaN</td>\n",
       "      <td>Frente</td>\n",
       "      <td>NaN</td>\n",
       "      <td>4800.0</td>\n",
       "      <td>NaN</td>\n",
       "      <td>NaN</td>\n",
       "      <td>38.0</td>\n",
       "      <td>41.0</td>\n",
       "      <td>NaN</td>\n",
       "      <td>Riobamba Al 400</td>\n",
       "      <td>12000</td>\n",
       "    </tr>\n",
       "    <tr>\n",
       "      <th>5</th>\n",
       "      <td>1.0</td>\n",
       "      <td>0 años</td>\n",
       "      <td>1.0</td>\n",
       "      <td>Almagro - Capital Federal</td>\n",
       "      <td>20.0</td>\n",
       "      <td>Contrafrente</td>\n",
       "      <td>NaN</td>\n",
       "      <td>NaN</td>\n",
       "      <td>3.0</td>\n",
       "      <td>7.0</td>\n",
       "      <td>38.0</td>\n",
       "      <td>42.0</td>\n",
       "      <td>NaN</td>\n",
       "      <td>Medrano 1020</td>\n",
       "      <td>12000</td>\n",
       "    </tr>\n",
       "    <tr>\n",
       "      <th>6</th>\n",
       "      <td>1.0</td>\n",
       "      <td>0 años</td>\n",
       "      <td>1.0</td>\n",
       "      <td>Belgrano - Capital Federal</td>\n",
       "      <td>NaN</td>\n",
       "      <td>Interno</td>\n",
       "      <td>NaN</td>\n",
       "      <td>3200.0</td>\n",
       "      <td>NaN</td>\n",
       "      <td>1.0</td>\n",
       "      <td>40.0</td>\n",
       "      <td>42.0</td>\n",
       "      <td>NaN</td>\n",
       "      <td>Roosevelt Al 3000</td>\n",
       "      <td>16900</td>\n",
       "    </tr>\n",
       "    <tr>\n",
       "      <th>7</th>\n",
       "      <td>1.0</td>\n",
       "      <td>NaN</td>\n",
       "      <td>1.0</td>\n",
       "      <td>Villa Urquiza - Capital Federal</td>\n",
       "      <td>NaN</td>\n",
       "      <td>NaN</td>\n",
       "      <td>NaN</td>\n",
       "      <td>NaN</td>\n",
       "      <td>NaN</td>\n",
       "      <td>NaN</td>\n",
       "      <td>32.0</td>\n",
       "      <td>32.0</td>\n",
       "      <td>Departamento</td>\n",
       "      <td>Av. Franklin Roosevelt 4900</td>\n",
       "      <td>18000</td>\n",
       "    </tr>\n",
       "    <tr>\n",
       "      <th>8</th>\n",
       "      <td>1.0</td>\n",
       "      <td>0 años</td>\n",
       "      <td>1.0</td>\n",
       "      <td>Villa Devoto - Capital Federal</td>\n",
       "      <td>NaN</td>\n",
       "      <td>NaN</td>\n",
       "      <td>NaN</td>\n",
       "      <td>1600.0</td>\n",
       "      <td>NaN</td>\n",
       "      <td>NaN</td>\n",
       "      <td>NaN</td>\n",
       "      <td>NaN</td>\n",
       "      <td>NaN</td>\n",
       "      <td>San Martin Av. Al 5700</td>\n",
       "      <td>11500</td>\n",
       "    </tr>\n",
       "    <tr>\n",
       "      <th>9</th>\n",
       "      <td>1.0</td>\n",
       "      <td>0 años</td>\n",
       "      <td>1.0</td>\n",
       "      <td>Almagro - Capital Federal</td>\n",
       "      <td>NaN</td>\n",
       "      <td>Frente</td>\n",
       "      <td>NaN</td>\n",
       "      <td>NaN</td>\n",
       "      <td>NaN</td>\n",
       "      <td>NaN</td>\n",
       "      <td>25.0</td>\n",
       "      <td>34.0</td>\n",
       "      <td>Departamento</td>\n",
       "      <td>Venezuela Al 3700</td>\n",
       "      <td>9200</td>\n",
       "    </tr>\n",
       "  </tbody>\n",
       "</table>\n",
       "</div>"
      ],
      "text/plain": [
       "   rooms     age  bath                     neighborhood  aparment_floor  \\\n",
       "0    1.0     NaN   2.0       Belgrano - Capital Federal             NaN   \n",
       "1    1.0  0 años   1.0       Belgrano - Capital Federal             NaN   \n",
       "2    1.0  5 años   1.0  Puerto Madero - Capital Federal             NaN   \n",
       "3    1.0  0 años   1.0        Coghlan - Capital Federal             NaN   \n",
       "4    1.0  2 años   1.0      Balvanera - Capital Federal             NaN   \n",
       "5    1.0  0 años   1.0        Almagro - Capital Federal            20.0   \n",
       "6    1.0  0 años   1.0       Belgrano - Capital Federal             NaN   \n",
       "7    1.0     NaN   1.0  Villa Urquiza - Capital Federal             NaN   \n",
       "8    1.0  0 años   1.0   Villa Devoto - Capital Federal             NaN   \n",
       "9    1.0  0 años   1.0        Almagro - Capital Federal             NaN   \n",
       "\n",
       "           view  bedrooms  expenses  floor  nbr_floors  covered area  \\\n",
       "0        Frente       NaN    6432.0    NaN         NaN          71.0   \n",
       "1           NaN       NaN    4800.0    NaN         1.0          41.0   \n",
       "2        Frente       NaN    7000.0    NaN         NaN          42.0   \n",
       "3           NaN       NaN    2200.0    NaN         NaN           NaN   \n",
       "4        Frente       NaN    4800.0    NaN         NaN          38.0   \n",
       "5  Contrafrente       NaN       NaN    3.0         7.0          38.0   \n",
       "6       Interno       NaN    3200.0    NaN         1.0          40.0   \n",
       "7           NaN       NaN       NaN    NaN         NaN          32.0   \n",
       "8           NaN       NaN    1600.0    NaN         NaN           NaN   \n",
       "9        Frente       NaN       NaN    NaN         NaN          25.0   \n",
       "\n",
       "   total_area          type                      address  price  \n",
       "0        85.0  Departamento               Juramento 1900  26000  \n",
       "1        44.0           NaN                Arcos Al 2600  17500  \n",
       "2        42.0           NaN       Quartier Madero Urbano  20000  \n",
       "3         NaN           NaN        Juana Azurduy Al 3400  13500  \n",
       "4        41.0           NaN              Riobamba Al 400  12000  \n",
       "5        42.0           NaN                 Medrano 1020  12000  \n",
       "6        42.0           NaN            Roosevelt Al 3000  16900  \n",
       "7        32.0  Departamento  Av. Franklin Roosevelt 4900  18000  \n",
       "8         NaN           NaN       San Martin Av. Al 5700  11500  \n",
       "9        34.0  Departamento            Venezuela Al 3700   9200  "
      ]
     },
     "execution_count": 4,
     "metadata": {},
     "output_type": "execute_result"
    }
   ],
   "source": [
    "df.head(10)"
   ]
  },
  {
   "cell_type": "code",
   "execution_count": 5,
   "metadata": {},
   "outputs": [
    {
     "data": {
      "text/plain": [
       "(6348, 15)"
      ]
     },
     "execution_count": 5,
     "metadata": {},
     "output_type": "execute_result"
    }
   ],
   "source": [
    "df.shape"
   ]
  },
  {
   "cell_type": "code",
   "execution_count": 6,
   "metadata": {},
   "outputs": [
    {
     "data": {
      "text/html": [
       "<div>\n",
       "<style scoped>\n",
       "    .dataframe tbody tr th:only-of-type {\n",
       "        vertical-align: middle;\n",
       "    }\n",
       "\n",
       "    .dataframe tbody tr th {\n",
       "        vertical-align: top;\n",
       "    }\n",
       "\n",
       "    .dataframe thead th {\n",
       "        text-align: right;\n",
       "    }\n",
       "</style>\n",
       "<table border=\"1\" class=\"dataframe\">\n",
       "  <thead>\n",
       "    <tr style=\"text-align: right;\">\n",
       "      <th></th>\n",
       "      <th>rooms</th>\n",
       "      <th>bath</th>\n",
       "      <th>aparment_floor</th>\n",
       "      <th>bedrooms</th>\n",
       "      <th>expenses</th>\n",
       "      <th>floor</th>\n",
       "      <th>nbr_floors</th>\n",
       "      <th>covered area</th>\n",
       "      <th>total_area</th>\n",
       "      <th>price</th>\n",
       "    </tr>\n",
       "  </thead>\n",
       "  <tbody>\n",
       "    <tr>\n",
       "      <th>count</th>\n",
       "      <td>6226.000000</td>\n",
       "      <td>6242.000000</td>\n",
       "      <td>1478.000000</td>\n",
       "      <td>5718.000000</td>\n",
       "      <td>4078.000000</td>\n",
       "      <td>897.000000</td>\n",
       "      <td>2776.000000</td>\n",
       "      <td>6097.000000</td>\n",
       "      <td>6008.000000</td>\n",
       "      <td>6.348000e+03</td>\n",
       "    </tr>\n",
       "    <tr>\n",
       "      <th>mean</th>\n",
       "      <td>2.708962</td>\n",
       "      <td>1.462832</td>\n",
       "      <td>3.640054</td>\n",
       "      <td>1.758307</td>\n",
       "      <td>7531.844041</td>\n",
       "      <td>5.626533</td>\n",
       "      <td>7.999640</td>\n",
       "      <td>122.869444</td>\n",
       "      <td>118.855526</td>\n",
       "      <td>1.806386e+04</td>\n",
       "    </tr>\n",
       "    <tr>\n",
       "      <th>std</th>\n",
       "      <td>5.882554</td>\n",
       "      <td>0.774315</td>\n",
       "      <td>2.172411</td>\n",
       "      <td>1.071355</td>\n",
       "      <td>8304.352302</td>\n",
       "      <td>17.539302</td>\n",
       "      <td>7.524926</td>\n",
       "      <td>914.489686</td>\n",
       "      <td>1467.849158</td>\n",
       "      <td>2.601924e+04</td>\n",
       "    </tr>\n",
       "    <tr>\n",
       "      <th>min</th>\n",
       "      <td>1.000000</td>\n",
       "      <td>1.000000</td>\n",
       "      <td>1.000000</td>\n",
       "      <td>1.000000</td>\n",
       "      <td>0.000000</td>\n",
       "      <td>1.000000</td>\n",
       "      <td>1.000000</td>\n",
       "      <td>1.000000</td>\n",
       "      <td>1.000000</td>\n",
       "      <td>1.300000e+02</td>\n",
       "    </tr>\n",
       "    <tr>\n",
       "      <th>25%</th>\n",
       "      <td>2.000000</td>\n",
       "      <td>1.000000</td>\n",
       "      <td>2.000000</td>\n",
       "      <td>1.000000</td>\n",
       "      <td>2594.000000</td>\n",
       "      <td>2.000000</td>\n",
       "      <td>2.000000</td>\n",
       "      <td>40.000000</td>\n",
       "      <td>42.000000</td>\n",
       "      <td>9.500000e+03</td>\n",
       "    </tr>\n",
       "    <tr>\n",
       "      <th>50%</th>\n",
       "      <td>2.000000</td>\n",
       "      <td>1.000000</td>\n",
       "      <td>3.000000</td>\n",
       "      <td>1.000000</td>\n",
       "      <td>4300.000000</td>\n",
       "      <td>4.000000</td>\n",
       "      <td>8.000000</td>\n",
       "      <td>52.000000</td>\n",
       "      <td>58.000000</td>\n",
       "      <td>1.400000e+04</td>\n",
       "    </tr>\n",
       "    <tr>\n",
       "      <th>75%</th>\n",
       "      <td>3.000000</td>\n",
       "      <td>2.000000</td>\n",
       "      <td>4.000000</td>\n",
       "      <td>2.000000</td>\n",
       "      <td>9000.000000</td>\n",
       "      <td>6.000000</td>\n",
       "      <td>10.000000</td>\n",
       "      <td>90.000000</td>\n",
       "      <td>99.000000</td>\n",
       "      <td>2.000000e+04</td>\n",
       "    </tr>\n",
       "    <tr>\n",
       "      <th>max</th>\n",
       "      <td>322.000000</td>\n",
       "      <td>7.000000</td>\n",
       "      <td>20.000000</td>\n",
       "      <td>30.000000</td>\n",
       "      <td>89971.000000</td>\n",
       "      <td>404.000000</td>\n",
       "      <td>82.000000</td>\n",
       "      <td>27111.000000</td>\n",
       "      <td>111111.000000</td>\n",
       "      <td>1.050000e+06</td>\n",
       "    </tr>\n",
       "  </tbody>\n",
       "</table>\n",
       "</div>"
      ],
      "text/plain": [
       "             rooms         bath  aparment_floor     bedrooms      expenses  \\\n",
       "count  6226.000000  6242.000000     1478.000000  5718.000000   4078.000000   \n",
       "mean      2.708962     1.462832        3.640054     1.758307   7531.844041   \n",
       "std       5.882554     0.774315        2.172411     1.071355   8304.352302   \n",
       "min       1.000000     1.000000        1.000000     1.000000      0.000000   \n",
       "25%       2.000000     1.000000        2.000000     1.000000   2594.000000   \n",
       "50%       2.000000     1.000000        3.000000     1.000000   4300.000000   \n",
       "75%       3.000000     2.000000        4.000000     2.000000   9000.000000   \n",
       "max     322.000000     7.000000       20.000000    30.000000  89971.000000   \n",
       "\n",
       "            floor   nbr_floors  covered area     total_area         price  \n",
       "count  897.000000  2776.000000   6097.000000    6008.000000  6.348000e+03  \n",
       "mean     5.626533     7.999640    122.869444     118.855526  1.806386e+04  \n",
       "std     17.539302     7.524926    914.489686    1467.849158  2.601924e+04  \n",
       "min      1.000000     1.000000      1.000000       1.000000  1.300000e+02  \n",
       "25%      2.000000     2.000000     40.000000      42.000000  9.500000e+03  \n",
       "50%      4.000000     8.000000     52.000000      58.000000  1.400000e+04  \n",
       "75%      6.000000    10.000000     90.000000      99.000000  2.000000e+04  \n",
       "max    404.000000    82.000000  27111.000000  111111.000000  1.050000e+06  "
      ]
     },
     "execution_count": 6,
     "metadata": {},
     "output_type": "execute_result"
    }
   ],
   "source": [
    "df.describe()"
   ]
  },
  {
   "cell_type": "code",
   "execution_count": 7,
   "metadata": {},
   "outputs": [
    {
     "data": {
      "text/plain": [
       "rooms             0.019219\n",
       "age               0.258349\n",
       "bath              0.016698\n",
       "neighborhood      0.000000\n",
       "aparment_floor    0.767171\n",
       "view              0.304505\n",
       "bedrooms          0.099244\n",
       "expenses          0.357593\n",
       "floor             0.858696\n",
       "nbr_floors        0.562697\n",
       "covered area      0.039540\n",
       "total_area        0.053560\n",
       "type              0.473062\n",
       "address           0.000473\n",
       "price             0.000000\n",
       "dtype: float64"
      ]
     },
     "execution_count": 7,
     "metadata": {},
     "output_type": "execute_result"
    }
   ],
   "source": [
    "# Amount of NAs per column\n",
    "df.isna().apply(np.sum) / df.shape[0]"
   ]
  },
  {
   "cell_type": "code",
   "execution_count": 8,
   "metadata": {},
   "outputs": [
    {
     "data": {
      "text/html": [
       "<div>\n",
       "<style scoped>\n",
       "    .dataframe tbody tr th:only-of-type {\n",
       "        vertical-align: middle;\n",
       "    }\n",
       "\n",
       "    .dataframe tbody tr th {\n",
       "        vertical-align: top;\n",
       "    }\n",
       "\n",
       "    .dataframe thead th {\n",
       "        text-align: right;\n",
       "    }\n",
       "</style>\n",
       "<table border=\"1\" class=\"dataframe\">\n",
       "  <thead>\n",
       "    <tr style=\"text-align: right;\">\n",
       "      <th></th>\n",
       "      <th>0</th>\n",
       "      <th>1</th>\n",
       "    </tr>\n",
       "  </thead>\n",
       "  <tbody>\n",
       "    <tr>\n",
       "      <th>rooms</th>\n",
       "      <td>1</td>\n",
       "      <td>1</td>\n",
       "    </tr>\n",
       "    <tr>\n",
       "      <th>age</th>\n",
       "      <td>NaN</td>\n",
       "      <td>0 años</td>\n",
       "    </tr>\n",
       "    <tr>\n",
       "      <th>bath</th>\n",
       "      <td>2</td>\n",
       "      <td>1</td>\n",
       "    </tr>\n",
       "    <tr>\n",
       "      <th>neighborhood</th>\n",
       "      <td>Belgrano - Capital Federal</td>\n",
       "      <td>Belgrano - Capital Federal</td>\n",
       "    </tr>\n",
       "    <tr>\n",
       "      <th>aparment_floor</th>\n",
       "      <td>NaN</td>\n",
       "      <td>NaN</td>\n",
       "    </tr>\n",
       "    <tr>\n",
       "      <th>view</th>\n",
       "      <td>Frente</td>\n",
       "      <td>NaN</td>\n",
       "    </tr>\n",
       "    <tr>\n",
       "      <th>bedrooms</th>\n",
       "      <td>NaN</td>\n",
       "      <td>NaN</td>\n",
       "    </tr>\n",
       "    <tr>\n",
       "      <th>expenses</th>\n",
       "      <td>6432</td>\n",
       "      <td>4800</td>\n",
       "    </tr>\n",
       "    <tr>\n",
       "      <th>floor</th>\n",
       "      <td>NaN</td>\n",
       "      <td>NaN</td>\n",
       "    </tr>\n",
       "    <tr>\n",
       "      <th>nbr_floors</th>\n",
       "      <td>NaN</td>\n",
       "      <td>1</td>\n",
       "    </tr>\n",
       "    <tr>\n",
       "      <th>covered area</th>\n",
       "      <td>71</td>\n",
       "      <td>41</td>\n",
       "    </tr>\n",
       "    <tr>\n",
       "      <th>total_area</th>\n",
       "      <td>85</td>\n",
       "      <td>44</td>\n",
       "    </tr>\n",
       "    <tr>\n",
       "      <th>type</th>\n",
       "      <td>Departamento</td>\n",
       "      <td>NaN</td>\n",
       "    </tr>\n",
       "    <tr>\n",
       "      <th>address</th>\n",
       "      <td>Juramento 1900</td>\n",
       "      <td>Arcos Al 2600</td>\n",
       "    </tr>\n",
       "    <tr>\n",
       "      <th>price</th>\n",
       "      <td>26000</td>\n",
       "      <td>17500</td>\n",
       "    </tr>\n",
       "  </tbody>\n",
       "</table>\n",
       "</div>"
      ],
      "text/plain": [
       "                                         0                           1\n",
       "rooms                                    1                           1\n",
       "age                                    NaN                      0 años\n",
       "bath                                     2                           1\n",
       "neighborhood    Belgrano - Capital Federal  Belgrano - Capital Federal\n",
       "aparment_floor                         NaN                         NaN\n",
       "view                                Frente                         NaN\n",
       "bedrooms                               NaN                         NaN\n",
       "expenses                              6432                        4800\n",
       "floor                                  NaN                         NaN\n",
       "nbr_floors                             NaN                           1\n",
       "covered area                            71                          41\n",
       "total_area                              85                          44\n",
       "type                          Departamento                         NaN\n",
       "address                     Juramento 1900               Arcos Al 2600\n",
       "price                                26000                       17500"
      ]
     },
     "execution_count": 8,
     "metadata": {},
     "output_type": "execute_result"
    }
   ],
   "source": [
    "df.head(2).T"
   ]
  },
  {
   "cell_type": "code",
   "execution_count": 9,
   "metadata": {},
   "outputs": [],
   "source": [
    "# Some data cleaning"
   ]
  },
  {
   "cell_type": "code",
   "execution_count": 10,
   "metadata": {},
   "outputs": [],
   "source": [
    "df['neighborhood'] = df['neighborhood'].str.replace(' - Capital Federal', '', regex=False)\n",
    "df['neighborhood'] = df['neighborhood'].str.lower()"
   ]
  },
  {
   "cell_type": "code",
   "execution_count": 11,
   "metadata": {},
   "outputs": [
    {
     "data": {
      "text/plain": [
       "palermo          654\n",
       "belgrano         645\n",
       "recoleta         543\n",
       "caballito        401\n",
       "puerto madero    386\n",
       "Name: neighborhood, dtype: int64"
      ]
     },
     "execution_count": 11,
     "metadata": {},
     "output_type": "execute_result"
    }
   ],
   "source": [
    "df.neighborhood.value_counts()[:5]"
   ]
  },
  {
   "cell_type": "code",
   "execution_count": 12,
   "metadata": {},
   "outputs": [],
   "source": [
    "df['age'] = df['age'].str.replace('[^0-9]+', '', regex=True)"
   ]
  },
  {
   "cell_type": "code",
   "execution_count": 13,
   "metadata": {},
   "outputs": [],
   "source": [
    "df['age'] = df.age.astype('float64')"
   ]
  },
  {
   "cell_type": "code",
   "execution_count": 14,
   "metadata": {},
   "outputs": [
    {
     "data": {
      "text/plain": [
       "0.0     1056\n",
       "40.0     464\n",
       "50.0     257\n",
       "45.0     230\n",
       "30.0     224\n",
       "2.0      198\n",
       "10.0     192\n",
       "5.0      186\n",
       "Name: age, dtype: int64"
      ]
     },
     "execution_count": 14,
     "metadata": {},
     "output_type": "execute_result"
    }
   ],
   "source": [
    "df.age.value_counts()[:5]"
   ]
  },
  {
   "cell_type": "code",
   "execution_count": 15,
   "metadata": {},
   "outputs": [
    {
     "data": {
      "text/plain": [
       "array([ 0.   , 88.395])"
      ]
     },
     "execution_count": 15,
     "metadata": {},
     "output_type": "execute_result"
    }
   ],
   "source": [
    "np.nanpercentile(df.age.values, [5, 99.5])"
   ]
  },
  {
   "cell_type": "code",
   "execution_count": 16,
   "metadata": {},
   "outputs": [
    {
     "name": "stderr",
     "output_type": "stream",
     "text": [
      "/home/marbel/anaconda3/envs/eda/lib/python3.6/site-packages/numpy/lib/histograms.py:754: RuntimeWarning: invalid value encountered in greater_equal\n",
      "  keep = (tmp_a >= first_edge)\n",
      "/home/marbel/anaconda3/envs/eda/lib/python3.6/site-packages/numpy/lib/histograms.py:755: RuntimeWarning: invalid value encountered in less_equal\n",
      "  keep &= (tmp_a <= last_edge)\n"
     ]
    },
    {
     "data": {
      "text/plain": [
       "(array([4.706e+03, 0.000e+00, 0.000e+00, 0.000e+00, 0.000e+00, 0.000e+00,\n",
       "        0.000e+00, 0.000e+00, 0.000e+00, 2.000e+00]),\n",
       " array([   0. ,  196.8,  393.6,  590.4,  787.2,  984. , 1180.8, 1377.6,\n",
       "        1574.4, 1771.2, 1968. ]),\n",
       " <a list of 10 Patch objects>)"
      ]
     },
     "execution_count": 16,
     "metadata": {},
     "output_type": "execute_result"
    },
    {
     "data": {
      "image/png": "[encoded data removed]",
      "text/plain": [
       "<Figure size 432x288 with 1 Axes>"
      ]
     },
     "metadata": {
      "needs_background": "light"
     },
     "output_type": "display_data"
    }
   ],
   "source": [
    "plt.hist(df[~df.isna()].age)"
   ]
  },
  {
   "cell_type": "code",
   "execution_count": 21,
   "metadata": {},
   "outputs": [
    {
     "data": {
      "text/plain": [
       "1640"
      ]
     },
     "execution_count": 21,
     "metadata": {},
     "output_type": "execute_result"
    }
   ],
   "source": [
    "df.age.isna().sum()"
   ]
  },
  {
   "cell_type": "code",
   "execution_count": 18,
   "metadata": {},
   "outputs": [
    {
     "data": {
      "text/plain": [
       "(6348, 15)"
      ]
     },
     "execution_count": 18,
     "metadata": {},
     "output_type": "execute_result"
    }
   ],
   "source": [
    "df.shape"
   ]
  }
 ],
 "metadata": {
  "kernelspec": {
   "display_name": "Python [conda env:eda]",
   "language": "python",
   "name": "conda-env-eda-py"
  },
  "language_info": {
   "codemirror_mode": {
    "name": "ipython",
    "version": 3
   },
   "file_extension": ".py",
   "mimetype": "text/x-python",
   "name": "python",
   "nbconvert_exporter": "python",
   "pygments_lexer": "ipython3",
   "version": "3.6.6"
  }
 },
 "nbformat": 4,
 "nbformat_minor": 2
}
