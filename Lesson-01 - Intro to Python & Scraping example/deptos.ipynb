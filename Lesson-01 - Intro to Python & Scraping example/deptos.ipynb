{
 "cells": [
  {
   "cell_type": "code",
   "execution_count": 1,
   "metadata": {},
   "outputs": [],
   "source": [
    "url = 'https://inmuebles.mercadolibre.com.ar/departamentos/capital-federal/departamento-alquiler'\n",
    "url2 = \"https://inmuebles.mercadolibre.com.ar/departamentos/capital-federal/departamento-alquiler_Desde_51\"\n",
    "url3 = \"https://inmuebles.mercadolibre.com.ar/departamentos/capital-federal/departamento-alquiler_Desde_101\"\n",
    "\n",
    "# Luego ver como extraer la info de cada depto individual\n",
    "depto = 'https://departamento.mercadolibre.com.ar/MLA-762464986-departamento-alquiler-recoletaluminoso-dueno-directo-_JM'\n"
   ]
  },
  {
   "cell_type": "code",
   "execution_count": 2,
   "metadata": {},
   "outputs": [],
   "source": [
    "import requests\n",
    "from bs4 import BeautifulSoup"
   ]
  },
  {
   "cell_type": "code",
   "execution_count": 3,
   "metadata": {},
   "outputs": [],
   "source": [
    "r = requests.get(depto)"
   ]
  },
  {
   "cell_type": "code",
   "execution_count": 9,
   "metadata": {},
   "outputs": [
    {
     "data": {
      "text/plain": [
       "b'<!doctype '"
      ]
     },
     "execution_count": 9,
     "metadata": {},
     "output_type": "execute_result"
    }
   ],
   "source": [
    "r.content[:10]"
   ]
  },
  {
   "cell_type": "code",
   "execution_count": 8,
   "metadata": {},
   "outputs": [],
   "source": [
    "soup = BeautifulSoup(r.content)"
   ]
  },
  {
   "cell_type": "code",
   "execution_count": 16,
   "metadata": {},
   "outputs": [
    {
     "data": {
      "text/plain": [
       "[<span class=\"price-tag-fraction\">15.000</span>]"
      ]
     },
     "execution_count": 16,
     "metadata": {},
     "output_type": "execute_result"
    }
   ],
   "source": [
    "soup.select(\".price-tag-fraction\")"
   ]
  },
  {
   "cell_type": "code",
   "execution_count": 12,
   "metadata": {},
   "outputs": [
    {
     "data": {
      "text/plain": [
       "<span class=\"price-tag-fraction\">15.000</span>"
      ]
     },
     "execution_count": 12,
     "metadata": {},
     "output_type": "execute_result"
    }
   ],
   "source": [
    "soup.select(\".price-tag-fraction\")[0]"
   ]
  },
  {
   "cell_type": "code",
   "execution_count": 18,
   "metadata": {},
   "outputs": [],
   "source": [
    "precio = soup.select(\".price-tag-fraction\")[0].text\n"
   ]
  },
  {
   "cell_type": "code",
   "execution_count": 19,
   "metadata": {},
   "outputs": [
    {
     "data": {
      "text/plain": [
       "15.0"
      ]
     },
     "execution_count": 19,
     "metadata": {},
     "output_type": "execute_result"
    }
   ],
   "source": [
    "float(precio)"
   ]
  },
  {
   "cell_type": "code",
   "execution_count": 26,
   "metadata": {},
   "outputs": [
    {
     "data": {
      "text/plain": [
       "'15000'"
      ]
     },
     "execution_count": 26,
     "metadata": {},
     "output_type": "execute_result"
    }
   ],
   "source": [
    "import re\n",
    "\n",
    "precio = re.sub('\\.', \"\", precio)\n",
    "precio"
   ]
  },
  {
   "cell_type": "code",
   "execution_count": 27,
   "metadata": {},
   "outputs": [],
   "source": [
    "def remove_dots(s):\n",
    "    return re.sub(\"\\.\", \"\", s)"
   ]
  },
  {
   "cell_type": "code",
   "execution_count": 28,
   "metadata": {},
   "outputs": [
    {
     "data": {
      "text/plain": [
       "'15000'"
      ]
     },
     "execution_count": 28,
     "metadata": {},
     "output_type": "execute_result"
    }
   ],
   "source": [
    "remove_dots(precio)"
   ]
  },
  {
   "cell_type": "code",
   "execution_count": 32,
   "metadata": {},
   "outputs": [],
   "source": [
    "direccion = soup.select(\".map-address\")[0].text"
   ]
  },
  {
   "cell_type": "code",
   "execution_count": 33,
   "metadata": {},
   "outputs": [
    {
     "data": {
      "text/plain": [
       "'Aguero 1900'"
      ]
     },
     "execution_count": 33,
     "metadata": {},
     "output_type": "execute_result"
    }
   ],
   "source": [
    "direccion"
   ]
  },
  {
   "cell_type": "code",
   "execution_count": 35,
   "metadata": {},
   "outputs": [
    {
     "data": {
      "text/plain": [
       "[<li class=\"specs-item\">\n",
       " <strong>Superficie total</strong>\n",
       " <span> 42 m² </span>\n",
       " </li>, <li class=\"specs-item\">\n",
       " <strong>Superficie cubierta</strong>\n",
       " <span>42 m²</span>\n",
       " </li>, <li class=\"specs-item\">\n",
       " <strong>Dormitorios</strong>\n",
       " <span>1</span>\n",
       " </li>, <li class=\"specs-item\">\n",
       " <strong>Ambientes</strong>\n",
       " <span>2</span>\n",
       " </li>, <li class=\"specs-item\">\n",
       " <strong>Baños</strong>\n",
       " <span>1</span>\n",
       " </li>, <li class=\"specs-item\">\n",
       " <strong>Departamentos por piso</strong>\n",
       " <span>2</span>\n",
       " </li>, <li class=\"specs-item\">\n",
       " <strong>Disposición</strong>\n",
       " <span>Contrafrente</span>\n",
       " </li>]"
      ]
     },
     "execution_count": 35,
     "metadata": {},
     "output_type": "execute_result"
    }
   ],
   "source": [
    "specs = soup.select(\".specs-item\")\n",
    "specs"
   ]
  },
  {
   "cell_type": "code",
   "execution_count": 36,
   "metadata": {},
   "outputs": [
    {
     "data": {
      "text/plain": [
       "7"
      ]
     },
     "execution_count": 36,
     "metadata": {},
     "output_type": "execute_result"
    }
   ],
   "source": [
    "len(specs)"
   ]
  },
  {
   "cell_type": "code",
   "execution_count": 37,
   "metadata": {},
   "outputs": [
    {
     "data": {
      "text/plain": [
       "<li class=\"specs-item\">\n",
       "<strong>Superficie total</strong>\n",
       "<span> 42 m² </span>\n",
       "</li>"
      ]
     },
     "execution_count": 37,
     "metadata": {},
     "output_type": "execute_result"
    }
   ],
   "source": [
    "specs[0]"
   ]
  },
  {
   "cell_type": "code",
   "execution_count": 39,
   "metadata": {},
   "outputs": [
    {
     "data": {
      "text/plain": [
       "'Superficie total'"
      ]
     },
     "execution_count": 39,
     "metadata": {},
     "output_type": "execute_result"
    }
   ],
   "source": [
    "specs[0].strong.text"
   ]
  },
  {
   "cell_type": "code",
   "execution_count": 41,
   "metadata": {},
   "outputs": [
    {
     "data": {
      "text/plain": [
       "' 42 m² '"
      ]
     },
     "execution_count": 41,
     "metadata": {},
     "output_type": "execute_result"
    }
   ],
   "source": [
    "specs[0].span.text"
   ]
  },
  {
   "cell_type": "code",
   "execution_count": 42,
   "metadata": {},
   "outputs": [
    {
     "name": "stdout",
     "output_type": "stream",
     "text": [
      "<li class=\"specs-item\">\n",
      "<strong>Superficie total</strong>\n",
      "<span> 42 m² </span>\n",
      "</li>\n",
      "<li class=\"specs-item\">\n",
      "<strong>Superficie cubierta</strong>\n",
      "<span>42 m²</span>\n",
      "</li>\n",
      "<li class=\"specs-item\">\n",
      "<strong>Dormitorios</strong>\n",
      "<span>1</span>\n",
      "</li>\n",
      "<li class=\"specs-item\">\n",
      "<strong>Ambientes</strong>\n",
      "<span>2</span>\n",
      "</li>\n",
      "<li class=\"specs-item\">\n",
      "<strong>Baños</strong>\n",
      "<span>1</span>\n",
      "</li>\n",
      "<li class=\"specs-item\">\n",
      "<strong>Departamentos por piso</strong>\n",
      "<span>2</span>\n",
      "</li>\n",
      "<li class=\"specs-item\">\n",
      "<strong>Disposición</strong>\n",
      "<span>Contrafrente</span>\n",
      "</li>\n"
     ]
    }
   ],
   "source": [
    "for e in specs:\n",
    "    print(e)"
   ]
  },
  {
   "cell_type": "code",
   "execution_count": 46,
   "metadata": {},
   "outputs": [
    {
     "data": {
      "text/plain": [
       "('Disposición', 'Contrafrente')"
      ]
     },
     "execution_count": 46,
     "metadata": {},
     "output_type": "execute_result"
    }
   ],
   "source": [
    "e.strong.text, e.span.text"
   ]
  },
  {
   "cell_type": "code",
   "execution_count": 48,
   "metadata": {},
   "outputs": [],
   "source": [
    "depto = {}\n",
    "for e in specs:\n",
    "    key = e.strong.text\n",
    "    value = e.span.text\n",
    "    depto[key] = value"
   ]
  },
  {
   "cell_type": "code",
   "execution_count": 47,
   "metadata": {},
   "outputs": [
    {
     "data": {
      "text/plain": [
       "<li class=\"specs-item\">\n",
       "<strong>Superficie total</strong>\n",
       "<span> 42 m² </span>\n",
       "</li>"
      ]
     },
     "execution_count": 47,
     "metadata": {},
     "output_type": "execute_result"
    }
   ],
   "source": [
    "specs[0]"
   ]
  },
  {
   "cell_type": "code",
   "execution_count": 49,
   "metadata": {},
   "outputs": [
    {
     "data": {
      "text/plain": [
       "{'Superficie total': ' 42 m² ',\n",
       " 'Superficie cubierta': '42 m²',\n",
       " 'Dormitorios': '1',\n",
       " 'Ambientes': '2',\n",
       " 'Baños': '1',\n",
       " 'Departamentos por piso': '2',\n",
       " 'Disposición': 'Contrafrente'}"
      ]
     },
     "execution_count": 49,
     "metadata": {},
     "output_type": "execute_result"
    }
   ],
   "source": [
    "depto"
   ]
  },
  {
   "cell_type": "code",
   "execution_count": 50,
   "metadata": {},
   "outputs": [],
   "source": [
    "depto = {}"
   ]
  },
  {
   "cell_type": "code",
   "execution_count": 52,
   "metadata": {},
   "outputs": [
    {
     "data": {
      "text/plain": [
       "('Disposición', 'Contrafrente')"
      ]
     },
     "execution_count": 52,
     "metadata": {},
     "output_type": "execute_result"
    }
   ],
   "source": [
    "key = e.strong.text\n",
    "value = e.span.text\n",
    "\n",
    "(key, value)"
   ]
  },
  {
   "cell_type": "code",
   "execution_count": 53,
   "metadata": {},
   "outputs": [],
   "source": [
    "depto[key] = value"
   ]
  },
  {
   "cell_type": "code",
   "execution_count": 55,
   "metadata": {},
   "outputs": [
    {
     "data": {
      "text/plain": [
       "{'Disposición': 'Contrafrente'}"
      ]
     },
     "execution_count": 55,
     "metadata": {},
     "output_type": "execute_result"
    }
   ],
   "source": [
    "depto"
   ]
  },
  {
   "cell_type": "code",
   "execution_count": 57,
   "metadata": {},
   "outputs": [],
   "source": [
    "e = specs[1]"
   ]
  },
  {
   "cell_type": "code",
   "execution_count": 58,
   "metadata": {},
   "outputs": [
    {
     "data": {
      "text/plain": [
       "<li class=\"specs-item\">\n",
       "<strong>Superficie cubierta</strong>\n",
       "<span>42 m²</span>\n",
       "</li>"
      ]
     },
     "execution_count": 58,
     "metadata": {},
     "output_type": "execute_result"
    }
   ],
   "source": [
    "e"
   ]
  },
  {
   "cell_type": "code",
   "execution_count": 59,
   "metadata": {},
   "outputs": [
    {
     "data": {
      "text/plain": [
       "('Superficie cubierta', '42 m²')"
      ]
     },
     "execution_count": 59,
     "metadata": {},
     "output_type": "execute_result"
    }
   ],
   "source": [
    "key = e.strong.text\n",
    "value = e.span.text\n",
    "\n",
    "(key, value)"
   ]
  },
  {
   "cell_type": "code",
   "execution_count": 60,
   "metadata": {},
   "outputs": [],
   "source": [
    "depto[key] = value"
   ]
  },
  {
   "cell_type": "code",
   "execution_count": 61,
   "metadata": {},
   "outputs": [
    {
     "data": {
      "text/plain": [
       "{'Disposición': 'Contrafrente', 'Superficie cubierta': '42 m²'}"
      ]
     },
     "execution_count": 61,
     "metadata": {},
     "output_type": "execute_result"
    }
   ],
   "source": [
    "depto"
   ]
  },
  {
   "cell_type": "code",
   "execution_count": null,
   "metadata": {},
   "outputs": [],
   "source": []
  },
  {
   "cell_type": "code",
   "execution_count": null,
   "metadata": {},
   "outputs": [],
   "source": []
  }
 ],
 "metadata": {
  "kernelspec": {
   "display_name": "Python [conda env:scraper]",
   "language": "python",
   "name": "conda-env-scraper-py"
  },
  "language_info": {
   "codemirror_mode": {
    "name": "ipython",
    "version": 3
   },
   "file_extension": ".py",
   "mimetype": "text/x-python",
   "name": "python",
   "nbconvert_exporter": "python",
   "pygments_lexer": "ipython3",
   "version": "3.6.6"
  }
 },
 "nbformat": 4,
 "nbformat_minor": 2
}
